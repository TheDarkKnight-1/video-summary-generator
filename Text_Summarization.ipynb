{
 "cells": [
  {
   "cell_type": "code",
   "execution_count": 2,
   "metadata": {},
   "outputs": [],
   "source": [
    "f = open(\"MyFile.txt\", \"r\")\n",
    "text=f.read()"
   ]
  },
  {
   "cell_type": "code",
   "execution_count": 3,
   "metadata": {},
   "outputs": [
    {
     "name": "stdout",
     "output_type": "stream",
     "text": [
      "Collecting spacy\n",
      "  Downloading spacy-2.3.5-cp38-cp38-win_amd64.whl (9.7 MB)\n",
      "Collecting wasabi<1.1.0,>=0.4.0\n",
      "  Downloading wasabi-0.8.0-py3-none-any.whl (23 kB)\n",
      "Collecting cymem<2.1.0,>=2.0.2\n",
      "  Downloading cymem-2.0.5-cp38-cp38-win_amd64.whl (36 kB)\n",
      "Collecting plac<1.2.0,>=0.9.6\n",
      "  Downloading plac-1.1.3-py2.py3-none-any.whl (20 kB)\n",
      "Collecting preshed<3.1.0,>=3.0.2\n",
      "  Downloading preshed-3.0.5-cp38-cp38-win_amd64.whl (112 kB)\n",
      "Collecting thinc<7.5.0,>=7.4.1\n",
      "  Downloading thinc-7.4.5-cp38-cp38-win_amd64.whl (910 kB)\n",
      "Requirement already satisfied: numpy>=1.15.0 in c:\\users\\apmis\\anaconda3\\lib\\site-packages (from spacy) (1.19.2)\n",
      "Requirement already satisfied: tqdm<5.0.0,>=4.38.0 in c:\\users\\apmis\\anaconda3\\lib\\site-packages (from spacy) (4.50.2)\n",
      "Collecting srsly<1.1.0,>=1.0.2\n",
      "  Downloading srsly-1.0.5-cp38-cp38-win_amd64.whl (178 kB)\n",
      "Collecting blis<0.8.0,>=0.4.0\n",
      "  Downloading blis-0.7.4-cp38-cp38-win_amd64.whl (6.5 MB)\n",
      "Collecting murmurhash<1.1.0,>=0.28.0\n",
      "  Downloading murmurhash-1.0.5-cp38-cp38-win_amd64.whl (21 kB)\n",
      "Collecting catalogue<1.1.0,>=0.0.7\n",
      "  Downloading catalogue-1.0.0-py2.py3-none-any.whl (7.7 kB)\n",
      "Requirement already satisfied: requests<3.0.0,>=2.13.0 in c:\\users\\apmis\\anaconda3\\lib\\site-packages (from spacy) (2.24.0)\n",
      "Requirement already satisfied: setuptools in c:\\users\\apmis\\anaconda3\\lib\\site-packages (from spacy) (50.3.1.post20201107)\n",
      "Requirement already satisfied: chardet<4,>=3.0.2 in c:\\users\\apmis\\anaconda3\\lib\\site-packages (from requests<3.0.0,>=2.13.0->spacy) (3.0.4)\n",
      "Requirement already satisfied: certifi>=2017.4.17 in c:\\users\\apmis\\anaconda3\\lib\\site-packages (from requests<3.0.0,>=2.13.0->spacy) (2020.6.20)\n",
      "Requirement already satisfied: urllib3!=1.25.0,!=1.25.1,<1.26,>=1.21.1 in c:\\users\\apmis\\anaconda3\\lib\\site-packages (from requests<3.0.0,>=2.13.0->spacy) (1.25.11)\n",
      "Requirement already satisfied: idna<3,>=2.5 in c:\\users\\apmis\\anaconda3\\lib\\site-packages (from requests<3.0.0,>=2.13.0->spacy) (2.10)\n",
      "Installing collected packages: wasabi, cymem, plac, murmurhash, preshed, blis, srsly, catalogue, thinc, spacy\n",
      "Successfully installed blis-0.7.4 catalogue-1.0.0 cymem-2.0.5 murmurhash-1.0.5 plac-1.1.3 preshed-3.0.5 spacy-2.3.5 srsly-1.0.5 thinc-7.4.5 wasabi-0.8.0\n"
     ]
    }
   ],
   "source": [
    "!pip  install spacy"
   ]
  },
  {
   "cell_type": "code",
   "execution_count": 4,
   "metadata": {},
   "outputs": [
    {
     "name": "stdout",
     "output_type": "stream",
     "text": [
      "Collecting en_core_web_sm==2.3.1\n",
      "  Downloading https://github.com/explosion/spacy-models/releases/download/en_core_web_sm-2.3.1/en_core_web_sm-2.3.1.tar.gz (12.0 MB)\n",
      "Requirement already satisfied: spacy<2.4.0,>=2.3.0 in c:\\users\\apmis\\anaconda3\\lib\\site-packages (from en_core_web_sm==2.3.1) (2.3.5)\n",
      "Requirement already satisfied: preshed<3.1.0,>=3.0.2 in c:\\users\\apmis\\anaconda3\\lib\\site-packages (from spacy<2.4.0,>=2.3.0->en_core_web_sm==2.3.1) (3.0.5)\n",
      "Requirement already satisfied: plac<1.2.0,>=0.9.6 in c:\\users\\apmis\\anaconda3\\lib\\site-packages (from spacy<2.4.0,>=2.3.0->en_core_web_sm==2.3.1) (1.1.3)\n",
      "Requirement already satisfied: numpy>=1.15.0 in c:\\users\\apmis\\anaconda3\\lib\\site-packages (from spacy<2.4.0,>=2.3.0->en_core_web_sm==2.3.1) (1.19.2)\n",
      "Requirement already satisfied: requests<3.0.0,>=2.13.0 in c:\\users\\apmis\\anaconda3\\lib\\site-packages (from spacy<2.4.0,>=2.3.0->en_core_web_sm==2.3.1) (2.24.0)\n",
      "Requirement already satisfied: thinc<7.5.0,>=7.4.1 in c:\\users\\apmis\\anaconda3\\lib\\site-packages (from spacy<2.4.0,>=2.3.0->en_core_web_sm==2.3.1) (7.4.5)\n",
      "Requirement already satisfied: blis<0.8.0,>=0.4.0 in c:\\users\\apmis\\anaconda3\\lib\\site-packages (from spacy<2.4.0,>=2.3.0->en_core_web_sm==2.3.1) (0.7.4)\n",
      "Requirement already satisfied: tqdm<5.0.0,>=4.38.0 in c:\\users\\apmis\\anaconda3\\lib\\site-packages (from spacy<2.4.0,>=2.3.0->en_core_web_sm==2.3.1) (4.50.2)\n",
      "Requirement already satisfied: setuptools in c:\\users\\apmis\\anaconda3\\lib\\site-packages (from spacy<2.4.0,>=2.3.0->en_core_web_sm==2.3.1) (50.3.1.post20201107)\n",
      "Requirement already satisfied: srsly<1.1.0,>=1.0.2 in c:\\users\\apmis\\anaconda3\\lib\\site-packages (from spacy<2.4.0,>=2.3.0->en_core_web_sm==2.3.1) (1.0.5)\n",
      "Requirement already satisfied: wasabi<1.1.0,>=0.4.0 in c:\\users\\apmis\\anaconda3\\lib\\site-packages (from spacy<2.4.0,>=2.3.0->en_core_web_sm==2.3.1) (0.8.0)\n",
      "Requirement already satisfied: murmurhash<1.1.0,>=0.28.0 in c:\\users\\apmis\\anaconda3\\lib\\site-packages (from spacy<2.4.0,>=2.3.0->en_core_web_sm==2.3.1) (1.0.5)\n",
      "Requirement already satisfied: catalogue<1.1.0,>=0.0.7 in c:\\users\\apmis\\anaconda3\\lib\\site-packages (from spacy<2.4.0,>=2.3.0->en_core_web_sm==2.3.1) (1.0.0)\n",
      "Requirement already satisfied: cymem<2.1.0,>=2.0.2 in c:\\users\\apmis\\anaconda3\\lib\\site-packages (from spacy<2.4.0,>=2.3.0->en_core_web_sm==2.3.1) (2.0.5)\n",
      "Requirement already satisfied: chardet<4,>=3.0.2 in c:\\users\\apmis\\anaconda3\\lib\\site-packages (from requests<3.0.0,>=2.13.0->spacy<2.4.0,>=2.3.0->en_core_web_sm==2.3.1) (3.0.4)\n",
      "Requirement already satisfied: certifi>=2017.4.17 in c:\\users\\apmis\\anaconda3\\lib\\site-packages (from requests<3.0.0,>=2.13.0->spacy<2.4.0,>=2.3.0->en_core_web_sm==2.3.1) (2020.6.20)\n",
      "Requirement already satisfied: idna<3,>=2.5 in c:\\users\\apmis\\anaconda3\\lib\\site-packages (from requests<3.0.0,>=2.13.0->spacy<2.4.0,>=2.3.0->en_core_web_sm==2.3.1) (2.10)\n",
      "Requirement already satisfied: urllib3!=1.25.0,!=1.25.1,<1.26,>=1.21.1 in c:\\users\\apmis\\anaconda3\\lib\\site-packages (from requests<3.0.0,>=2.13.0->spacy<2.4.0,>=2.3.0->en_core_web_sm==2.3.1) (1.25.11)\n",
      "Building wheels for collected packages: en-core-web-sm\n",
      "  Building wheel for en-core-web-sm (setup.py): started\n",
      "  Building wheel for en-core-web-sm (setup.py): finished with status 'done'\n",
      "  Created wheel for en-core-web-sm: filename=en_core_web_sm-2.3.1-py3-none-any.whl size=12047113 sha256=edd12848b911ca13d0616f7024e598e325dada0c2bea400cb710b47f84863e08\n",
      "  Stored in directory: C:\\Users\\apmis\\AppData\\Local\\Temp\\pip-ephem-wheel-cache-cqnyvay6\\wheels\\ee\\4d\\f7\\563214122be1540b5f9197b52cb3ddb9c4a8070808b22d5a84\n",
      "Successfully built en-core-web-sm\n",
      "Installing collected packages: en-core-web-sm\n",
      "Successfully installed en-core-web-sm-2.3.1\n",
      "[+] Download and installation successful\n",
      "You can now load the model via spacy.load('en_core_web_sm')\n"
     ]
    }
   ],
   "source": [
    "!python -m spacy download en_core_web_sm"
   ]
  },
  {
   "cell_type": "code",
   "execution_count": 7,
   "metadata": {},
   "outputs": [],
   "source": [
    "import spacy\n",
    "from spacy.lang.en.stop_words import STOP_WORDS\n",
    "from string import punctuation"
   ]
  },
  {
   "cell_type": "code",
   "execution_count": 9,
   "metadata": {},
   "outputs": [],
   "source": [
    "stopwords = list(STOP_WORDS)"
   ]
  },
  {
   "cell_type": "code",
   "execution_count": 10,
   "metadata": {},
   "outputs": [],
   "source": [
    "nlp = spacy.load('en_core_web_sm')"
   ]
  },
  {
   "cell_type": "code",
   "execution_count": 11,
   "metadata": {},
   "outputs": [],
   "source": [
    "doc=nlp(text)"
   ]
  },
  {
   "cell_type": "code",
   "execution_count": 13,
   "metadata": {},
   "outputs": [],
   "source": [
    "tokens=[token.text for token in doc]"
   ]
  },
  {
   "cell_type": "code",
   "execution_count": 16,
   "metadata": {},
   "outputs": [],
   "source": [
    "punctuation+='\\n'"
   ]
  },
  {
   "cell_type": "code",
   "execution_count": 17,
   "metadata": {},
   "outputs": [
    {
     "data": {
      "text/plain": [
       "'!\"#$%&\\'()*+,-./:;<=>?@[\\\\]^_`{|}~\\n'"
      ]
     },
     "execution_count": 17,
     "metadata": {},
     "output_type": "execute_result"
    }
   ],
   "source": [
    "punctuation"
   ]
  },
  {
   "cell_type": "code",
   "execution_count": 18,
   "metadata": {},
   "outputs": [],
   "source": [
    "word_frequencies={}\n",
    "for word in doc:\n",
    "    if word.text.lower() not in stopwords:\n",
    "        if word.text.lower() not in punctuation:\n",
    "            if word.text not in word_frequencies.keys():\n",
    "                word_frequencies[word.text] = 1\n",
    "            else:\n",
    "                word_frequencies[word.text] += 1"
   ]
  },
  {
   "cell_type": "code",
   "execution_count": 21,
   "metadata": {},
   "outputs": [],
   "source": [
    "max_frequency=max(word_frequencies.values())"
   ]
  },
  {
   "cell_type": "code",
   "execution_count": 22,
   "metadata": {},
   "outputs": [
    {
     "data": {
      "text/plain": [
       "61"
      ]
     },
     "execution_count": 22,
     "metadata": {},
     "output_type": "execute_result"
    }
   ],
   "source": [
    "max_frequency"
   ]
  },
  {
   "cell_type": "code",
   "execution_count": 23,
   "metadata": {},
   "outputs": [],
   "source": [
    "for word in word_frequencies.keys():\n",
    "    word_frequencies[word]=word_frequencies[word]/max_frequency"
   ]
  },
  {
   "cell_type": "code",
   "execution_count": 24,
   "metadata": {},
   "outputs": [
    {
     "name": "stdout",
     "output_type": "stream",
     "text": [
      "{'Today': 0.01639344262295082, 'basic': 0.08196721311475409, 'networking': 0.08196721311475409, 'commands': 0.08196721311475409, 'today': 0.01639344262295082, 'session': 0.03278688524590164, 'going': 0.09836065573770492, 'char': 0.01639344262295082, 'ip': 1.0, 'config': 0.18032786885245902, 'Ip': 0.06557377049180328, 'Ns': 0.03278688524590164, 'lookup': 0.09836065573770492, 'Ping': 0.01639344262295082, 'traceroute': 0.09836065573770492, 'Google': 0.03278688524590164, 'use': 0.06557377049180328, 'command': 0.47540983606557374, 'prompt': 0.08196721311475409, 'Use': 0.01639344262295082, 'required': 0.04918032786885246, 'click': 0.01639344262295082, 'start': 0.01639344262295082, 'menu': 0.01639344262295082, 'type': 0.01639344262295082, 'cmd': 0.01639344262295082, 'Cmd': 0.01639344262295082, 'option': 0.01639344262295082, 'shown': 0.03278688524590164, 'programs': 0.01639344262295082, 'comment': 0.06557377049180328, 'window': 0.01639344262295082, 'accept': 0.01639344262295082, 'result': 0.01639344262295082, 'want': 0.21311475409836064, 'karnal': 0.01639344262295082, 'increasing': 0.01639344262295082, 'readability': 0.03278688524590164, 'L': 0.01639344262295082, 'o': 0.08196721311475409, 'r': 0.08196721311475409, 'colour': 0.09836065573770492, 'text': 0.01639344262295082, 'color': 0.01639344262295082, 'changed': 0.01639344262295082, 'shortcut': 0.01639344262295082, 'Help': 0.01639344262295082, 'Colour': 0.01639344262295082, 'help': 0.01639344262295082, 'codes': 0.01639344262295082, 'code': 0.01639344262295082, 'b': 0.01639344262295082, 'light': 0.01639344262295082, 'aqua': 0.01639344262295082, 'colours': 0.01639344262295082, 'days': 0.01639344262295082, 'think': 0.04918032786885246, 'find': 0.03278688524590164, 'better': 0.01639344262295082, 'changes': 0.01639344262295082, 'aware': 0.01639344262295082, 'bonus': 0.01639344262295082, 'know': 0.18032786885245902, 'day': 0.01639344262295082, 'seeing': 0.01639344262295082, 'configuration': 0.06557377049180328, 'details': 0.16393442622950818, '1p': 0.01639344262295082, 'press': 0.01639344262295082, 'enter': 0.03278688524590164, 'computer': 0.819672131147541, 'establish': 0.01639344262295082, 'local': 0.06557377049180328, 'area': 0.06557377049180328, 'network': 0.21311475409836064, 'ethernet': 0.01639344262295082, 'cable': 0.01639344262295082, 'established': 0.01639344262295082, 'wi': 0.03278688524590164, 'fi': 0.03278688524590164, 'lan': 0.04918032786885246, 'adaptor': 0.03278688524590164, 'Getting': 0.01639344262295082, 'internet': 0.03278688524590164, 'connectivity': 0.01639344262295082, 'router': 0.32786885245901637, 'ipv4': 0.01639344262295082, 'address': 0.9836065573770492, 'interface': 0.01639344262295082, '192': 0.08196721311475409, '168': 0.06557377049180328, '29.1': 0.09836065573770492, '73': 0.03278688524590164, 'Addition': 0.01639344262295082, 'accompanied': 0.03278688524590164, 'subnet': 0.04918032786885246, 'mask': 0.06557377049180328, 'elaborately': 0.01639344262295082, 'subnetting': 0.01639344262295082, 'series': 0.01639344262295082, 'time': 0.01639344262295082, 'Subnet': 0.01639344262295082, 'determine': 0.01639344262295082, 'neighbours': 0.01639344262295082, 'wants': 0.04918032786885246, 'contact': 0.03278688524590164, 'computers': 0.06557377049180328, 'easily': 0.01639344262295082, 'needs': 0.03278688524590164, 'hit': 0.03278688524590164, 'route': 0.09836065573770492, '192.168': 0.03278688524590164, '1': 0.01639344262295082, 'centre': 0.03278688524590164, 'hate': 0.01639344262295082, 'hope': 0.04918032786885246, 'correlate': 0.01639344262295082, 'scenario': 0.01639344262295082, 'seen': 0.08196721311475409, 'previous': 0.01639344262295082, 'lecture': 0.01639344262295082, 'Default': 0.01639344262295082, 'gateway': 0.11475409836065574, 'mean': 0.03278688524590164, 'heating': 0.04918032786885246, 'normally': 0.01639344262295082, 'vicinity': 0.01639344262295082, 'request': 0.06557377049180328, 'note': 0.03278688524590164, 'hitting': 0.01639344262295082, 'default': 0.08196721311475409, 'Pocket': 0.01639344262295082, 'different': 0.09836065573770492, 'networks': 0.01639344262295082, 'access': 0.08196721311475409, 'google.com': 0.06557377049180328, 'send': 0.03278688524590164, 'data': 0.08196721311475409, 'responsibility': 0.01639344262295082, 'forward': 0.01639344262295082, 'ensure': 0.01639344262295082, 'reached': 0.04918032786885246, 'destination': 0.11475409836065574, 'far': 0.06557377049180328, 'protocol': 0.03278688524590164, 'stands': 0.01639344262295082, 'layer': 0.14754098360655737, '3': 0.03278688524590164, 'information': 0.04918032786885246, 'accessing': 0.01639344262295082, 'Layer': 0.01639344262295082, 'means': 0.01639344262295082, 'related': 0.01639344262295082, 'mac': 0.08196721311475409, 'currently': 0.03278688524590164, 'sophia': 0.01639344262295082, 'counting': 0.01639344262295082, 'interviews': 0.01639344262295082, 'connected': 0.01639344262295082, 'wireless': 0.03278688524590164, 'concerned': 0.04918032786885246, 'physical': 0.06557377049180328, '9439': 0.01639344262295082, 'iphone': 0.06557377049180328, '7': 0.01639344262295082, '4': 0.11475409836065574, 'packet': 0.21311475409836064, 'goes': 0.01639344262295082, 'uses': 0.06557377049180328, 'link': 0.04918032786885246, 'letter': 0.01639344262295082, 'Network': 0.01639344262295082, 'remaining': 0.01639344262295082, 'tree': 0.01639344262295082, 'good': 0.01639344262295082, 'clear': 0.06557377049180328, 'screen': 0.09836065573770492, 'showing': 0.01639344262295082, 'cl': 0.01639344262295082, 'Clear': 0.03278688524590164, 'ns': 0.06557377049180328, 'imagine': 0.01639344262295082, 'google': 0.01639344262295082, 'open': 0.01639344262295082, 'browser': 0.03278688524590164, 'bar': 0.01639344262295082, 'www.google.com': 0.04918032786885246, 'source': 0.01639344262295082, 'said': 0.01639344262295082, 'given': 0.09836065573770492, 'mention': 0.01639344262295082, 'actually': 0.01639344262295082, 'need': 0.01639344262295082, 'order': 0.01639344262295082, 'park': 0.03278688524590164, 'user': 0.01639344262295082, 'resort': 0.01639344262295082, 'concept': 0.01639344262295082, 'domain': 0.04918032786885246, 'server': 0.19672131147540983, 'response': 0.01639344262295082, 'corresponding': 0.03278688524590164, 'example': 0.01639344262295082, 'dns': 0.08196721311475409, 'replace': 0.01639344262295082, 'academy.org': 0.04918032786885246, 'Computer': 0.01639344262295082, 'Dns': 0.01639344262295082, 'comes': 0.03278688524590164, 'picture': 0.01639344262295082, 'resolves': 0.03278688524590164, 'addresses': 0.04918032786885246, 'ask': 0.04918032786885246, 'neso': 0.3114754098360656, 'academy': 0.3442622950819672, 'sql': 0.01639344262295082, 'look': 0.03278688524590164, 'Suppose': 0.01639344262295082, 'dot': 0.06557377049180328, 'g': 0.04918032786885246, 'www.academy.com': 0.01639344262295082, 'org': 0.03278688524590164, 'Given': 0.01639344262295082, '192.162': 0.01639344262295082, '9.2': 0.01639344262295082, '17.1': 0.01639344262295082, 'got': 0.03278688524590164, 'summer': 0.01639344262295082, 'pocket': 0.03278688524590164, 'come': 0.04918032786885246, 'supplies': 0.01639344262295082, 'action': 0.01639344262295082, 'converts': 0.01639344262295082, 'view': 0.01639344262295082, 'detail': 0.01639344262295082, 'Command': 0.01639344262295082, 'query': 0.01639344262295082, 'names': 0.03278688524590164, 'www.ckcacademy.org': 0.01639344262295082, 'toc': 0.01639344262295082, '192.1': 0.01639344262295082, '69.1': 0.01639344262295082, '7.2': 0.01639344262295082, 'Check': 0.03278688524590164, 'able': 0.03278688524590164, 'reach': 0.04918032786885246, 'pest': 0.01639344262295082, 'control': 0.01639344262295082, 'c': 0.04918032786885246, 'Control': 0.03278688524590164, 'current': 0.03278688524590164, 'execution': 0.01639344262295082, 'reachable': 0.04918032786885246, 'giving': 0.03278688524590164, 'ping': 0.04918032786885246, 'Baby': 0.01639344262295082, 'market': 0.03278688524590164, 'copied': 0.01639344262295082, 'Pesticides': 0.01639344262295082, 'russia': 0.01639344262295082, 'Issuing': 0.01639344262295082, '192.169': 0.01639344262295082, '17.12': 0.01639344262295082, 'check': 0.03278688524590164, 'tortoise': 0.04918032786885246, 'presenter': 0.01639344262295082, 'computed': 0.01639344262295082, 'ends': 0.01639344262295082, 'packets': 0.03278688524590164, 'tot': 0.01639344262295082, 'watchers': 0.01639344262295082, 'observe': 0.01639344262295082, 'replies': 0.01639344262295082, 'sir': 0.01639344262295082, 'sent': 0.01639344262295082, 'received': 0.04918032786885246, 'acknowledgment': 0.01639344262295082, 'loss': 0.03278688524590164, 'percent': 0.04918032786885246, 'receive': 0.01639344262295082, 'acknowledgement': 0.03278688524590164, 'handy': 0.01639344262295082, 'try': 0.01639344262295082, 'non': 0.01639344262295082, 'existing': 0.03278688524590164, 'trying': 0.01639344262295082, 'sending': 0.01639344262295082, 'number': 0.01639344262295082, 'love': 0.01639344262295082, 'announcement': 0.01639344262295082, '4:00': 0.03278688524590164, 'pakistan': 0.03278688524590164, 'paint': 0.01639344262295082, 'kutti': 0.01639344262295082, 'reduced': 0.01639344262295082, 'equal': 0.01639344262295082, 'zero': 0.01639344262295082, 'lost': 0.03278688524590164, 'package': 0.01639344262295082, 'accent': 0.01639344262295082, 'year': 0.01639344262295082, 'let': 0.06557377049180328, 'thing': 0.01639344262295082, 'www.facebook.com': 0.01639344262295082, 'reply': 0.01639344262295082, 'facebook.com': 0.01639344262295082, 'ipv6': 0.01639344262295082, 'pin': 0.01639344262295082, 'vary': 0.01639344262295082, 'slow': 0.01639344262295082, 'cup': 0.01639344262295082, 'g.': 0.01639344262295082, 'Litmus': 0.01639344262295082, 'website': 0.01639344262295082, 'having': 0.01639344262295082, 'Mini': 0.01639344262295082, 'copy': 0.03278688524590164, '10': 0.03278688524590164, 'operation': 0.03278688524590164, 'nice': 0.01639344262295082, 'cleared': 0.01639344262295082, 'trade': 0.03278688524590164, 'reaching': 0.01639344262295082, 'Sabhi': 0.01639344262295082, 'hawa': 0.01639344262295082, 'windows': 0.03278688524590164, 'stress': 0.03278688524590164, 'aarti': 0.04918032786885246, 'operating': 0.01639344262295082, 'system': 0.01639344262295082, 'issue': 0.01639344262295082, 'trace': 0.03278688524590164, 'artist': 0.01639344262295082, 'people': 0.01639344262295082, 'like': 0.04918032786885246, 'Tracer': 0.01639344262295082, 'problem': 0.01639344262295082, 'aati': 0.03278688524590164, 'tracer': 0.01639344262295082, 'recording': 0.01639344262295082, 'wish': 0.01639344262295082, 'place': 0.01639344262295082, 'cres': 0.01639344262295082, 'raising': 0.01639344262295082, 'root': 0.01639344262295082, 'working': 0.03278688524590164, 'end': 0.03278688524590164, 'device': 0.06557377049180328, 'point': 0.03278688524590164, 'communication': 0.01639344262295082, 'Neso': 0.01639344262295082, 'routers': 0.03278688524590164, 'intermediary': 0.03278688524590164, 'devices': 0.03278688524590164, 'available': 0.01639344262295082, 'tracert': 0.01639344262295082, 'takes': 0.04918032786885246, 'case': 0.01639344262295082, 'path': 0.03278688524590164, 'taken': 0.03278688524590164, 'Factory': 0.01639344262295082, 'notice': 0.01639344262295082, 'belonging': 0.01639344262295082, 'generated': 0.01639344262295082, 'requested': 0.01639344262295082, 'software': 0.01639344262295082, 'seth': 0.01639344262295082, 'second': 0.01639344262295082, 'fourth': 0.01639344262295082, 'kursi': 0.01639344262295082, 'taking': 0.01639344262295082, '11': 0.01639344262295082, 'Throat': 0.01639344262295082, 'irritation': 0.01639344262295082, 'Antacid': 0.01639344262295082, '13th': 0.01639344262295082, '14th': 0.03278688524590164, 'complete': 0.01639344262295082, 'g18': 0.01639344262295082, '14': 0.01639344262295082, 'shop': 0.01639344262295082, 'maximum': 0.01639344262295082, '30': 0.01639344262295082, 'hops': 0.01639344262295082, 'eating': 0.01639344262295082, 'Stiefel': 0.01639344262295082, '47.1': 0.01639344262295082, 'forwarding': 0.01639344262295082, 'finally': 0.01639344262295082, 'street': 0.01639344262295082, 'hawk': 0.01639344262295082, 'Pakistan': 0.01639344262295082, 'Traceroute': 0.03278688524590164, 'shows': 0.01639344262295082, 'timings': 0.01639344262295082, 'focus': 0.01639344262295082, 'idea': 0.01639344262295082, 'apart': 0.01639344262295082, 'city': 0.01639344262295082, 'configure': 0.01639344262295082, 'conflict': 0.01639344262295082, 'informative': 0.01639344262295082, 'thank': 0.01639344262295082, 'watching': 0.01639344262295082}\n"
     ]
    }
   ],
   "source": [
    "print(word_frequencies)"
   ]
  },
  {
   "cell_type": "code",
   "execution_count": 25,
   "metadata": {},
   "outputs": [],
   "source": [
    "sentence_tokens = [sent for sent in doc.sents]"
   ]
  },
  {
   "cell_type": "code",
   "execution_count": 27,
   "metadata": {},
   "outputs": [],
   "source": [
    "sentence_scores = {}\n",
    "for sent in sentence_tokens:\n",
    "    for word in sent:\n",
    "        if word.text.lower() in word_frequencies.keys():\n",
    "            if sent not in sentence_scores.keys():\n",
    "                sentence_scores[sent]=word_frequencies[word.text.lower()]\n",
    "            else:\n",
    "                sentence_scores[sent]+=word_frequencies[word.text.lower()]"
   ]
  },
  {
   "cell_type": "code",
   "execution_count": 28,
   "metadata": {},
   "outputs": [
    {
     "data": {
      "text/plain": [
       "{Today we will see the first part of the basic networking commands.: 0.2622950819672131,\n",
       " In today's session we are going to see the basic networking commands a char ip config.: 1.5901639344262295,\n",
       " Ip config / all.: 1.180327868852459,\n",
       " Ns lookup.: 0.1639344262295082,\n",
       " Ping and traceroute.: 0.14754098360655737,\n",
       " Google now see how to use the commands in the command prompt.: 0.7213114754098361,\n",
       " Use the basic networking commands we are required to go to the command prompt to go to the command from just click on the start menu and type cmd.: 1.4754098360655739,\n",
       " Cmd the command prompt option is shown under programs.: 0.639344262295082,\n",
       " The comment window is now before us.: 0.0819672131147541,\n",
       " We can give the command so that this command prompt accept the command and give the result whatever we want.: 1.7540983606557379,\n",
       " The first command that i'm going to use is not a networking karnal: 0.7377049180327868,\n",
       " this command is just for increasing the readability of the command prompt.: 1.0819672131147542,\n",
       " L o r colour.: 0.2622950819672131,\n",
       " The text color is changed now.: 0.04918032786885246,\n",
       " I give you a shortcut.: 0.01639344262295082,\n",
       " Help.: 0.01639344262295082,\n",
       " Colour.: 0.09836065573770492,\n",
       " When you give help and colour you can see various colour codes that are shown.: 0.26229508196721313,\n",
       " Google go with the colour code b: 0.14754098360655737,\n",
       " it is light aqua.: 0.03278688524590164,\n",
       " So i will give colours days: 0.03278688524590164,\n",
       " I think this is find out for better readability and changes colour.: 0.2459016393442623,\n",
       " If you are not aware of the colour command: 0.5901639344262295,\n",
       " so this is a bonus for you just know it now: 0.19672131147540983,\n",
       " the first command for the day is seeing the ip configuration details.: 1.7377049180327868,\n",
       " To see the ip configuration details.: 1.2295081967213115,\n",
       " We are required to give the command ip config.: 1.7049180327868851,\n",
       " 1p give ip config and press enter we will get the ip configuration details of the computer.: 3.295081967213115,\n",
       " I have not establish the local area network using ethernet cable.: 0.39344262295081966,\n",
       " I have established a local area network through wi-fi lan adaptor.: 0.5081967213114753,\n",
       " Getting internet connectivity through my wi-fi router now just see what is my ipv4 address of this computer on this interface.: 2.278688524590164,\n",
       " Ip address of this computer is 192 168 or 29.1 73.: 3.081967213114754,\n",
       " Addition of every ip address is always accompanied by a subnet mask we will see about subnet mask elaborately in the subnetting part of the series now for time being just know every ip address is always accompanied by the subnet mask.: 4.62295081967213,\n",
       " Subnet mask only determine who are the neighbours in our network.: 0.360655737704918,\n",
       " This computer wants to contact other computers in a local area network so it can be done easily but if this computer wants to contact a computer which is not in our local area network it needs to hit the router so the route of ip address is 192.168 29.1.: 5.999999999999999,\n",
       " Please no 1 computer centre address is 192 168 29.1 73 and the router the first router and computer hate: 3.622950819672131,\n",
       " it is 192.168 29.1.: 0.13114754098360656,\n",
       " I hope you can correlate this with the scenario which we had seen in the previous lecture.: 0.19672131147540983,\n",
       " Default gateway mean the ip address of the first router it is heating this route will be normally in our vicinity only.: 2.7213114754098355,\n",
       " Please know the ip address of the first router it is going to hit 192 168 29.1.: 2.8688524590163933,\n",
       " I request you to please make a note of the ip address of this computer and ip address of the router the first router that we are hitting that is the default gateway.: 5.754098360655738,\n",
       " Pocket want to go to different networks a from this computer if i want to access google.com.: 1.5409836065573772,\n",
       " It is a different network so that computer will send the data of the request to the default gateway that is this route: 1.6065573770491808,\n",
       " and it becomes the responsibility of that router to forward the data of the request to other router and ensure that the request has reached the destination.: 1.081967213114754,\n",
       " So far we have seen the ip config details that is the ip protocol: 2.5245901639344264,\n",
       " so we know this ip stands for internet protocol: 1.2622950819672132,\n",
       " so this is the layer 3 information we are accessing.: 0.2459016393442623,\n",
       " Layer 3 means ip address related information.: 2.245901639344262,\n",
       " If you want layer to information that is what is the mac address of this computer that is currently used to know the mac address of this computer sophia required to give it counting / all.: 4.475409836065574,\n",
       " This all interviews mac address details.: 1.2459016393442621,\n",
       " Now this computer is connected to the wireless lan.: 0.918032786885246,\n",
       " We are concerned about this wireless lan adaptor only so we will see where is the physical address is the physical address.: 2.2622950819672134,\n",
       " The physical address of this computer is 9439 iphone iphone 7 iphone 4 iphone 4.: 2.3934426229508197,\n",
       " Any packet that goes from this computer it uses this address in the layer to that is the data link layer that uses this address in letter because this is my ip address.: 5.573770491803279,\n",
       " Network layer uses this address and data link layer uses this address.: 2.737704918032787,\n",
       " So far we have seen ip config and ip config / all.: 2.5081967213114753,\n",
       " I will see the remaining tree command.: 0.5081967213114754,\n",
       " I think it's good to clear the screen so to clear the screen i am showing the command: 0.8852459016393442,\n",
       " cl.: 0.01639344262295082,\n",
       " Clear the screen.: 0.1639344262295082,\n",
       " Now you will see the third command that is ns lookup.: 0.6393442622950819,\n",
       " Just imagine if you want to access google.com will we do that google open the browser in the address bar of the browser we will give www.google.com: 1.5245901639344264,\n",
       " and we will give enter.: 0.03278688524590164,\n",
       " In the data link layer or computer has to put source mac address and destination mac address.: 3.360655737704918,\n",
       " In the network layer part it has to put our computers by ip address and the destination computers ip address.: 4.573770491803279,\n",
       " But as you said we have given only the name of the computer which we are going to access that is www.google.com.: 1.1639344262295084,\n",
       " We did not mention the ip address of google.com.: 2.0655737704918034,\n",
       " But our computer actually is in a need of ip address in order to put the ip address in the network layer park.: 5.229508196721311,\n",
       " But user has given only name of the computer not the ip address.: 2.918032786885246,\n",
       " How this is resort.: 0.01639344262295082,\n",
       " There is a concept in networking that is domain server.: 0.3442622950819672,\n",
       " Whenever any name is given then domain name server response the corresponding ip address for the name that is given for example if we give www.google.com the dns server that is the domain name server replace with the ip address of google.com if you want academy.org.: 5.393442622950819,\n",
       " Computer needs ip address.: 2.836065573770492,\n",
       " Dns comes into the picture and resolves the name into ip addresses.: 1.2131147540983607,\n",
       " Now we will ask the dns server what is the ip address of neso academy.: 2.9672131147540983,\n",
       " Give the command in sql.: 0.4918032786885246,\n",
       " Ns look up.: 0.09836065573770492,\n",
       " We can ask the dns server for ip address for the given server.: 2.60655737704918,\n",
       " If you want to know the ip address of neso academy dot o r g give the name of the server that you want to access.: 3.80327868852459,\n",
       " We want to access www.academy.com org.: 0.3442622950819672,\n",
       " Given the ip address of this server is 192.162 9.2 17.1.: 2.327868852459016,\n",
       " Now we got the ip address of the neso academy summer when any pocket wants to come out of this computer when use a supplies only name is comes into action and converts a name or resolves name into its corresponding ip addresses.: 4.9016393442622945,\n",
       " So far we have seen three command ip config that is to view the ip configuration details.: 3.0491803278688527,\n",
       " Ip config / all that is to know the physical address and other detail.: 2.4262295081967213,\n",
       " Command is ns lookup: 0.6393442622950819,\n",
       " so it is used to query the dns server to get the ip address for the given names for the computer name.: 3.2295081967213117,\n",
       " The computer name www.ckcacademy.org.: 0.8360655737704918,\n",
       " Now we know the ip address of neso academy toc org is 192.1 69.1 7.2.: 2.918032786885245,\n",
       " Check whether our computer is able to reach neso academy computer.: 2.4098360655737707,\n",
       " To do this just pest control c to come out of this ns lookup command.: 0.7704918032786885,\n",
       " Control c about the current execution.: 0.11475409836065574,\n",
       " Check whether a computer and neso academy network computer are reachable.: 2.5901639344262297,\n",
       " Do this and giving the command ping.: 0.5573770491803278,\n",
       " Ip address of this computer.: 2.80327868852459,\n",
       " We can give the name of the computer as well as the ip address of the computer we know the ip address of my so: 5.786885245901639,\n",
       " academy.org is this.: 0.04918032786885246,\n",
       " Baby just market: 0.03278688524590164,\n",
       " i just copied is ip address.: 2.0,\n",
       " Pesticides russia.: 0.01639344262295082,\n",
       " Issuing the command ping.: 0.5245901639344261,\n",
       " 192.169 to 17.12: 0.03278688524590164,\n",
       " it mean i want to check whether neso academy tortoise is reachable from my computer.: 1.8524590163934427,\n",
       " What is doing this comment presenter: 0.0819672131147541,\n",
       " so what is computed at its ends for packets to neso academy tot watchers and: 0.7540983606557378,\n",
       " if you observe we got 4 replies from that server that is neso academy sir.: 1.0491803278688525,\n",
       " This computer has sent for packet and we received for acknowledgment: 1.1147540983606559,\n",
       " so there is no loss because. 4 pocket percent and we receive for acknowledgement.: 0.2786885245901639,\n",
       " So there is no loss: 0.03278688524590164,\n",
       " so ping is a very handy command to check whether two computers are reachable or not.: 0.6885245901639343,\n",
       " Will try to reach some non existing computer.: 0.9344262295081968,\n",
       " This ip address is not existing in our network.: 2.2295081967213113,\n",
       " It is trying to send 4 packet so it is sending packet of one packet number to love you could see that it has not received any announcement for that packet.: 1.1311475409836067,\n",
       " 4:00 pakistan paint.: 0.0819672131147541,\n",
       " You kutti.: 0.01639344262295082,\n",
       " 4 packet percent and no acknowledgement is reduced received is equal to zero.: 0.5081967213114754,\n",
       " How many packets are lost.: 0.06557377049180328,\n",
       " 4:00 pakistan lost.: 0.09836065573770492,\n",
       " 4 package whatever this computer accent has not reached the destination this is the destination.: 1.2459016393442621,\n",
       " So we get hundred percent last year.: 0.06557377049180328,\n",
       " We can also use think and let this thing www.facebook.com.: 0.21311475409836064,\n",
       " You could see we are able to get reply from facebook.com.: 0.06557377049180328,\n",
       " You could see this is ip address of that computer and this is an ipv6 address so far we have seen ip config ip config: 6.311475409836066,\n",
       " / all ns lookup and pin.: 0.18032786885245902,\n",
       " Now we will see the traceroute command.: 0.5737704918032787,\n",
       " Clear screen.: 0.1639344262295082,\n",
       " First let me know the ip address of neso academy network.: 3.098360655737705,\n",
       " How to find ip address of neso academy dot o r g we will vary in a slow cup will ask what is ip address of neso academy dot o r g. Litmus academy has this website so when i give and we could not is that neso academy is having this ip address.: 8.950819672131146,\n",
       " Mini market copy 10 ip address.: 2.081967213114754,\n",
       " I have copy.: 0.03278688524590164,\n",
       " Control c: 0.06557377049180328,\n",
       " i have about a the operation on a nice look up: 0.0819672131147541,\n",
       " now let me clear the screen.: 0.22950819672131148,\n",
       " I have cleared the screen now i will trade route how the packet from my computer is reaching the destination computer.: 2.2295081967213113,\n",
       " Sabhi hawa comment call traceroute in windows: 0.21311475409836067,\n",
       " it is stress aarti: 0.0819672131147541,\n",
       " when you go for other operating system the command is different now: 0.6065573770491803,\n",
       " i am concerned about windows: 0.0819672131147541,\n",
       " only so i'll issue trace aarti artist and for some people will say this like.: 0.18032786885245902,\n",
       " Tracer.: 0.01639344262295082,\n",
       " No problem the command is stress aati or tracer whatever you want you can call recording.: 0.8032786885245903,\n",
       " You can call the name of the command as per your wish but i will go with traceroute place aarti.: 0.6557377049180328,\n",
       " After giving trade aati we have to give the ip address of the computer or the name of the computer the want cres.: 3.9508196721311473,\n",
       " I am concerned about raising the root of neso academy tortoise.: 0.7868852459016393,\n",
       " You know very well that this is a computer which i am currently working as an end device.: 1.1639344262295084,\n",
       " Because this is the last point in the communication.: 0.04918032786885246,\n",
       " Neso academy server is the end point in the other side so in between my computer and 10: 1.7704918032786887,\n",
       " academy.org there are many routers intermediary devices available.: 0.1639344262295082,\n",
       " This tracert command show several details about the park.: 0.6885245901639344,\n",
       " That a packet takes from one device to another in this case it is going to show several details about the path that is taken by a packet from this computer to neso academy.: 2.3606557377049184,\n",
       " Factory centre you could notice that this is a different network because the ip address of the current computer that i am working is very different than this is the computer that neso academy is using.: 4.80327868852459,\n",
       " I want to trace the route from my computer to this computer.: 1.9836065573770492,\n",
       " This is belonging to the different network operation: 0.360655737704918,\n",
       " the packet that is generated from my computer should reach the default gateway that is the first router.: 1.6229508196721312,\n",
       " I have requested you taken note of the default gateway software should come and seth the first router that it is heating is 192 168 29.1.: 0.9836065573770493,\n",
       " And this is the second router third router fourth router the kursi the packet from this computer is taking.: 2.081967213114754,\n",
       " As of now it is 11 router.: 0.3442622950819672,\n",
       " Throat irritation.: 0.01639344262295082,\n",
       " Antacid 13th and 14th router now the traceroute is complete.: 0.4918032786885246,\n",
       " This computer to neso academy tortoise g18 was 14 shop.: 1.5737704918032789,\n",
       " This command takes a maximum of 30 hops and you could see what is the ip address of the intermediary devices of the routers it is heating.: 2.7049180327868854,\n",
       " First it is eating this router that is the default gateway.: 0.540983606557377,\n",
       " Stiefel gateway it is going to another router with this ip address 192 47.1.: 2.6229508196721305,\n",
       " That router is forwarding the packet to this route is this this this and finally we could see the ip address of the neso academy dot o r g street.: 3.60655737704918,\n",
       " This is ip address of neso academy.: 2.639344262295082,\n",
       " In 14th hawk.: 0.04918032786885246,\n",
       " Pakistan's reached the destination.: 0.19672131147540983,\n",
       " Traceroute command shows several details like some timings and ip addresses some names: 1.9016393442622952,\n",
       " so let us not focus more on this path now with have a basic idea about this comment traceroute show several details about the part that apart it takes from one computer on one device to another device.: 1.557377049180328,\n",
       " The city.: 0.01639344262295082,\n",
       " I hope now you are clear with the basic commands like ip configure ip conflict / all.: 2.360655737704918,\n",
       " Traceroute and dns: 0.180327868852459,\n",
       " lookup: 0.09836065573770492,\n",
       " i hope the session is informative and thank you for watching.: 0.13114754098360656}"
      ]
     },
     "execution_count": 28,
     "metadata": {},
     "output_type": "execute_result"
    }
   ],
   "source": [
    "sentence_scores"
   ]
  },
  {
   "cell_type": "code",
   "execution_count": 29,
   "metadata": {},
   "outputs": [],
   "source": [
    "from heapq import nlargest"
   ]
  },
  {
   "cell_type": "code",
   "execution_count": 36,
   "metadata": {},
   "outputs": [
    {
     "data": {
      "text/plain": [
       "17"
      ]
     },
     "execution_count": 36,
     "metadata": {},
     "output_type": "execute_result"
    }
   ],
   "source": [
    "select_length = int(len(sentence_tokens)*0.1)\n",
    "select_length"
   ]
  },
  {
   "cell_type": "code",
   "execution_count": 37,
   "metadata": {},
   "outputs": [],
   "source": [
    "summary = nlargest(select_length,sentence_scores,key=sentence_scores.get)"
   ]
  },
  {
   "cell_type": "code",
   "execution_count": 39,
   "metadata": {},
   "outputs": [],
   "source": [
    "final_summary = [word.text for word in summary]"
   ]
  },
  {
   "cell_type": "code",
   "execution_count": 40,
   "metadata": {},
   "outputs": [],
   "source": [
    "summary = ' '.join(final_summary)"
   ]
  },
  {
   "cell_type": "code",
   "execution_count": 41,
   "metadata": {},
   "outputs": [
    {
     "name": "stdout",
     "output_type": "stream",
     "text": [
      "How to find ip address of neso academy dot o r g we will vary in a slow cup will ask what is ip address of neso academy dot o r g. Litmus academy has this website so when i give and we could not is that neso academy is having this ip address. You could see this is ip address of that computer and this is an ipv6 address so far we have seen ip config ip config This computer wants to contact other computers in a local area network so it can be done easily but if this computer wants to contact a computer which is not in our local area network it needs to hit the router so the route of ip address is 192.168 29.1. We can give the name of the computer as well as the ip address of the computer we know the ip address of my so I request you to please make a note of the ip address of this computer and ip address of the router the first router that we are hitting that is the default gateway. Any packet that goes from this computer it uses this address in the layer to that is the data link layer that uses this address in letter because this is my ip address. Whenever any name is given then domain name server response the corresponding ip address for the name that is given for example if we give www.google.com the dns server that is the domain name server replace with the ip address of google.com if you want academy.org. But our computer actually is in a need of ip address in order to put the ip address in the network layer park. Now we got the ip address of the neso academy summer when any pocket wants to come out of this computer when use a supplies only name is comes into action and converts a name or resolves name into its corresponding ip addresses. Factory centre you could notice that this is a different network because the ip address of the current computer that i am working is very different than this is the computer that neso academy is using. Addition of every ip address is always accompanied by a subnet mask we will see about subnet mask elaborately in the subnetting part of the series now for time being just know every ip address is always accompanied by the subnet mask. In the network layer part it has to put our computers by ip address and the destination computers ip address. If you want layer to information that is what is the mac address of this computer that is currently used to know the mac address of this computer sophia required to give it counting / all. After giving trade aati we have to give the ip address of the computer or the name of the computer the want cres. If you want to know the ip address of neso academy dot o r g give the name of the server that you want to access. Please no 1 computer centre address is 192 168 29.1 73 and the router the first router and computer hate That router is forwarding the packet to this route is this this this and finally we could see the ip address of the neso academy dot o r g street.\n"
     ]
    }
   ],
   "source": [
    "print(summary)"
   ]
  },
  {
   "cell_type": "code",
   "execution_count": 42,
   "metadata": {},
   "outputs": [
    {
     "data": {
      "text/plain": [
       "12029"
      ]
     },
     "execution_count": 42,
     "metadata": {},
     "output_type": "execute_result"
    }
   ],
   "source": [
    "len(text)"
   ]
  },
  {
   "cell_type": "code",
   "execution_count": 43,
   "metadata": {},
   "outputs": [
    {
     "data": {
      "text/plain": [
       "2884"
      ]
     },
     "execution_count": 43,
     "metadata": {},
     "output_type": "execute_result"
    }
   ],
   "source": [
    "len(summary)"
   ]
  },
  {
   "cell_type": "code",
   "execution_count": null,
   "metadata": {},
   "outputs": [],
   "source": []
  }
 ],
 "metadata": {
  "kernelspec": {
   "display_name": "Python 3",
   "language": "python",
   "name": "python3"
  },
  "language_info": {
   "codemirror_mode": {
    "name": "ipython",
    "version": 3
   },
   "file_extension": ".py",
   "mimetype": "text/x-python",
   "name": "python",
   "nbconvert_exporter": "python",
   "pygments_lexer": "ipython3",
   "version": "3.8.5"
  }
 },
 "nbformat": 4,
 "nbformat_minor": 4
}
